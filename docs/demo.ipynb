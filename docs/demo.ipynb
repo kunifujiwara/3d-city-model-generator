{
 "cells": [
  {
   "cell_type": "code",
   "execution_count": 2,
   "metadata": {},
   "outputs": [],
   "source": [
    "from three_d_city_model_generator.download import get_geojson_links"
   ]
  },
  {
   "cell_type": "code",
   "execution_count": 3,
   "metadata": {},
   "outputs": [
    {
     "name": "stdout",
     "output_type": "stream",
     "text": [
      "File downloaded successfully and saved as dataset-links.csv\n"
     ]
    },
    {
     "data": {
      "text/html": [
       "<div>\n",
       "<style scoped>\n",
       "    .dataframe tbody tr th:only-of-type {\n",
       "        vertical-align: middle;\n",
       "    }\n",
       "\n",
       "    .dataframe tbody tr th {\n",
       "        vertical-align: top;\n",
       "    }\n",
       "\n",
       "    .dataframe thead th {\n",
       "        text-align: right;\n",
       "    }\n",
       "</style>\n",
       "<table border=\"1\" class=\"dataframe\">\n",
       "  <thead>\n",
       "    <tr style=\"text-align: right;\">\n",
       "      <th></th>\n",
       "      <th>Location</th>\n",
       "      <th>QuadKey</th>\n",
       "      <th>Url</th>\n",
       "      <th>Size</th>\n",
       "    </tr>\n",
       "  </thead>\n",
       "  <tbody>\n",
       "    <tr>\n",
       "      <th>0</th>\n",
       "      <td>Abyei</td>\n",
       "      <td>122321003</td>\n",
       "      <td>https://minedbuildings.blob.core.windows.net/g...</td>\n",
       "      <td>4.8KB</td>\n",
       "    </tr>\n",
       "    <tr>\n",
       "      <th>1</th>\n",
       "      <td>Abyei</td>\n",
       "      <td>122321021</td>\n",
       "      <td>https://minedbuildings.blob.core.windows.net/g...</td>\n",
       "      <td>7.9KB</td>\n",
       "    </tr>\n",
       "    <tr>\n",
       "      <th>2</th>\n",
       "      <td>Afghanistan</td>\n",
       "      <td>123011320</td>\n",
       "      <td>https://minedbuildings.blob.core.windows.net/g...</td>\n",
       "      <td>70.2KB</td>\n",
       "    </tr>\n",
       "    <tr>\n",
       "      <th>3</th>\n",
       "      <td>Afghanistan</td>\n",
       "      <td>123011321</td>\n",
       "      <td>https://minedbuildings.blob.core.windows.net/g...</td>\n",
       "      <td>1.3MB</td>\n",
       "    </tr>\n",
       "    <tr>\n",
       "      <th>4</th>\n",
       "      <td>Afghanistan</td>\n",
       "      <td>123011322</td>\n",
       "      <td>https://minedbuildings.blob.core.windows.net/g...</td>\n",
       "      <td>4.1MB</td>\n",
       "    </tr>\n",
       "    <tr>\n",
       "      <th>...</th>\n",
       "      <td>...</td>\n",
       "      <td>...</td>\n",
       "      <td>...</td>\n",
       "      <td>...</td>\n",
       "    </tr>\n",
       "    <tr>\n",
       "      <th>28612</th>\n",
       "      <td>Zimbabwe</td>\n",
       "      <td>300301010</td>\n",
       "      <td>https://minedbuildings.blob.core.windows.net/g...</td>\n",
       "      <td>1.8MB</td>\n",
       "    </tr>\n",
       "    <tr>\n",
       "      <th>28613</th>\n",
       "      <td>Zimbabwe</td>\n",
       "      <td>300301011</td>\n",
       "      <td>https://minedbuildings.blob.core.windows.net/g...</td>\n",
       "      <td>755.6KB</td>\n",
       "    </tr>\n",
       "    <tr>\n",
       "      <th>28614</th>\n",
       "      <td>Zimbabwe</td>\n",
       "      <td>300301100</td>\n",
       "      <td>https://minedbuildings.blob.core.windows.net/g...</td>\n",
       "      <td>1.0MB</td>\n",
       "    </tr>\n",
       "    <tr>\n",
       "      <th>28615</th>\n",
       "      <td>Zimbabwe</td>\n",
       "      <td>300301101</td>\n",
       "      <td>https://minedbuildings.blob.core.windows.net/g...</td>\n",
       "      <td>6.1KB</td>\n",
       "    </tr>\n",
       "    <tr>\n",
       "      <th>28616</th>\n",
       "      <td>leSaint-Martin</td>\n",
       "      <td>032300312</td>\n",
       "      <td>https://minedbuildings.blob.core.windows.net/g...</td>\n",
       "      <td>1.2MB</td>\n",
       "    </tr>\n",
       "  </tbody>\n",
       "</table>\n",
       "<p>28617 rows × 4 columns</p>\n",
       "</div>"
      ],
      "text/plain": [
       "             Location    QuadKey  \\\n",
       "0               Abyei  122321003   \n",
       "1               Abyei  122321021   \n",
       "2         Afghanistan  123011320   \n",
       "3         Afghanistan  123011321   \n",
       "4         Afghanistan  123011322   \n",
       "...               ...        ...   \n",
       "28612        Zimbabwe  300301010   \n",
       "28613        Zimbabwe  300301011   \n",
       "28614        Zimbabwe  300301100   \n",
       "28615        Zimbabwe  300301101   \n",
       "28616  leSaint-Martin  032300312   \n",
       "\n",
       "                                                     Url     Size  \n",
       "0      https://minedbuildings.blob.core.windows.net/g...    4.8KB  \n",
       "1      https://minedbuildings.blob.core.windows.net/g...    7.9KB  \n",
       "2      https://minedbuildings.blob.core.windows.net/g...   70.2KB  \n",
       "3      https://minedbuildings.blob.core.windows.net/g...    1.3MB  \n",
       "4      https://minedbuildings.blob.core.windows.net/g...    4.1MB  \n",
       "...                                                  ...      ...  \n",
       "28612  https://minedbuildings.blob.core.windows.net/g...    1.8MB  \n",
       "28613  https://minedbuildings.blob.core.windows.net/g...  755.6KB  \n",
       "28614  https://minedbuildings.blob.core.windows.net/g...    1.0MB  \n",
       "28615  https://minedbuildings.blob.core.windows.net/g...    6.1KB  \n",
       "28616  https://minedbuildings.blob.core.windows.net/g...    1.2MB  \n",
       "\n",
       "[28617 rows x 4 columns]"
      ]
     },
     "execution_count": 3,
     "metadata": {},
     "output_type": "execute_result"
    }
   ],
   "source": [
    "df = get_geojson_links()\n",
    "df"
   ]
  },
  {
   "cell_type": "code",
   "execution_count": 4,
   "metadata": {},
   "outputs": [
    {
     "ename": "ImportError",
     "evalue": "cannot import name 'rotate_rectangle' from 'three_d_city_model_generator.utils' (unknown location)",
     "output_type": "error",
     "traceback": [
      "\u001b[1;31m---------------------------------------------------------------------------\u001b[0m",
      "\u001b[1;31mImportError\u001b[0m                               Traceback (most recent call last)",
      "Cell \u001b[1;32mIn[4], line 1\u001b[0m\n\u001b[1;32m----> 1\u001b[0m \u001b[38;5;28;01mfrom\u001b[39;00m \u001b[38;5;21;01mthree_d_city_model_generator\u001b[39;00m\u001b[38;5;21;01m.\u001b[39;00m\u001b[38;5;21;01mutils\u001b[39;00m \u001b[38;5;28;01mimport\u001b[39;00m rotate_rectangle, draw_rectangle_map\n",
      "\u001b[1;31mImportError\u001b[0m: cannot import name 'rotate_rectangle' from 'three_d_city_model_generator.utils' (unknown location)"
     ]
    }
   ],
   "source": [
    "from three_d_city_model_generator.utils import rotate_rectangle, draw_rectangle_map"
   ]
  }
 ],
 "metadata": {
  "kernelspec": {
   "display_name": "3d-city-model-generator",
   "language": "python",
   "name": "python3"
  },
  "language_info": {
   "codemirror_mode": {
    "name": "ipython",
    "version": 3
   },
   "file_extension": ".py",
   "mimetype": "text/x-python",
   "name": "python",
   "nbconvert_exporter": "python",
   "pygments_lexer": "ipython3",
   "version": "3.10.12"
  }
 },
 "nbformat": 4,
 "nbformat_minor": 2
}
